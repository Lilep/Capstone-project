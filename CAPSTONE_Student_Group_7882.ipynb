{
  "nbformat": 4,
  "nbformat_minor": 0,
  "metadata": {
    "colab": {
      "provenance": [],
      "include_colab_link": true
    },
    "kernelspec": {
      "name": "python3",
      "display_name": "Python 3"
    },
    "language_info": {
      "name": "python"
    }
  },
  "cells": [
    {
      "cell_type": "markdown",
      "metadata": {
        "id": "view-in-github",
        "colab_type": "text"
      },
      "source": [
        "<a href=\"https://colab.research.google.com/github/Lilep/Capstone-project/blob/main/CAPSTONE_Student_Group_7882.ipynb\" target=\"_parent\"><img src=\"https://colab.research.google.com/assets/colab-badge.svg\" alt=\"Open In Colab\"/></a>"
      ]
    },
    {
      "cell_type": "markdown",
      "source": [
        "#**DESIGNING AND EVALUATING CLIMATE DERIVATIVES FOR RISK MITIGATION IN INVESTMENT PORTFOLIOS**"
      ],
      "metadata": {
        "id": "vxQ7e3vQ8Z2T"
      }
    },
    {
      "cell_type": "markdown",
      "source": [
        "##**GROUP MEMBERS**"
      ],
      "metadata": {
        "id": "aDf3wVo0Fb4x"
      }
    },
    {
      "cell_type": "markdown",
      "source": [
        "***PHILIP AYODELE BALOGUN ***\t\tphdbalogun@gmail.com\n",
        "\n",
        "***PHENDULILE MANANA\t***\t \tmananalwenele16@gmail.com\n",
        "\n",
        "***TOLUWALONA TEMITOPE OLORO ***  \ttoluoloro2@gmail.com\n",
        "\n"
      ],
      "metadata": {
        "id": "EXVEIWzkFCTj"
      }
    },
    {
      "cell_type": "markdown",
      "source": [
        "##**PSEUDO CODE**"
      ],
      "metadata": {
        "id": "GeUMG8kU9ees"
      }
    },
    {
      "cell_type": "markdown",
      "source": [
        "**Step 1:**\n",
        "\n",
        "·Data Collection Adapt climate data archived from other websites such as NOAA, NASA, and ECMWF data.\n",
        "· Put together the financial data for the securities that make up a portfolio (stocks, bonds, indices, etc.).\n",
        "· Preprocess the data: Change climate data into understandable formats (e.g., converting temperatures into Celsius). Sync date and format of climate and financial datasets."
      ],
      "metadata": {
        "id": "0VpRin1M3PrQ"
      }
    },
    {
      "cell_type": "markdown",
      "source": [
        "**Step 2:**\n",
        "\n",
        "· Climate Risk Assessment Summarize climate data and descriptive statistics of mean, standard deviation of climate and major trends. Plot temperature data on graphs to observe a particular pattern. They should then identify climate volatility as a measure of systematic risk.\n"
      ],
      "metadata": {
        "id": "EpLIp4j09_5S"
      }
    },
    {
      "cell_type": "markdown",
      "source": [
        "**Step 3:**\n",
        "\n",
        "Design Derivative Choose the type of climate derivative it is to be, for example, the temperature-based call option or the catastrophe bond.\n",
        "Define parameters for the derivative:\n",
        "\n",
        "S: Average Temperature Currently (Current temperature index).\n",
        "X: The threshold temperature of the above strike formula is also called strike temperature.\n",
        "T: Time to maturity (in years).\n",
        "r: Risk-free interest rate.\n",
        "σ: Climate volatility.\n",
        " Implement a pricing formula: For options: Pricing of these derivatives can be done using Black-Scholes or any other model on derivatives. For catastrophe bonds: Organizations should incorporate either parametric or custom models.\n"
      ],
      "metadata": {
        "id": "NzwDC3T0-nmG"
      }
    },
    {
      "cell_type": "markdown",
      "source": [
        "**Step 4:**\n",
        "\n",
        "· Ongoing climate change necessitates the modeling of future climate scenarios to guide the climate change mitigation plans.\n",
        "· Generate a distribution of future temperatures using a normal distribution: Mean = Temperature of the area in the past.\n",
        "· Standard deviation = Climate fluctuation. Compute derivative payoffs: If a call option: A Call option payoff Payoff=min⁡(Strike, Temperature)\\text{Payoff} = \\min(Strike, Temperature)Payoff=min(Strike,Temperature). Finally, approximate the expected payoff with the average of all the created simulations.\n"
      ],
      "metadata": {
        "id": "bxUNFok1_6gD"
      }
    },
    {
      "cell_type": "markdown",
      "source": [
        "**Step 5:**\n",
        "\n",
        " Assessment of the integrated portfolio\n",
        " Define a sample portfolio with three assets:\n",
        "·  Stocks: Distribute a higher amount, as a priority or an initial weight (for example 60%).\n",
        "· Bonds: Distribute initial allocation (e.g., 30%), and all other decisions with respect to each module must correspond to principles of an ‘ideal architecture’.\n",
        "· Climate Derivative: Set first weight proportion (e. g. 10%).\n",
        "· Calculate portfolio metrics: Portfolio return = Σ ( Wi * Ri) Portfolio risk = Sum of individual risks weighted by portfolio’s exposure to each risk.\n",
        "·Adjust portfolio weights to optimize risk-return characteristics: Boost derivative use if it leads to smaller total risk exposure on the portfolio."
      ],
      "metadata": {
        "id": "M5o4nUjEAFD_"
      }
    },
    {
      "cell_type": "markdown",
      "source": [
        "**Step 6:**\n",
        "· Visualization and Reporting Graph the daily and monthly simulated temperature distributions and the payoffs resulting from their derivative program.\n",
        "·Illustrate the results of portfolio analysis (return against risk).\n",
        " Document findings: Derivative pricing results. Optimization trends and patterns of portfolio.\n"
      ],
      "metadata": {
        "id": "hHN-pb8fAQkk"
      }
    },
    {
      "cell_type": "markdown",
      "source": [
        "###**Step 1: Import Required Libraries**"
      ],
      "metadata": {
        "id": "YFU9JIs-9lC7"
      }
    },
    {
      "cell_type": "code",
      "source": [
        "import pandas as pd\n",
        "import numpy as np\n",
        "import matplotlib.pyplot as plt\n",
        "from scipy.stats import norm\n"
      ],
      "metadata": {
        "id": "sFkNRg0LCEpZ"
      },
      "execution_count": null,
      "outputs": []
    },
    {
      "cell_type": "markdown",
      "source": [
        "###**Step 2: Load and Prepare Data**"
      ],
      "metadata": {
        "id": "Jpo8PYXl9vIZ"
      }
    },
    {
      "cell_type": "markdown",
      "source": [
        "**Download Climate Data from Online Sources:**\n",
        "\n",
        "    NOAA Climate Data: https://www.ncdc.noaa.gov/cdo-web/\n",
        "    NASA EarthData: https://earthdata.nasa.gov/\n",
        "    European Centre for Medium-Range Weather Forecasts (ECMWF): https://www.ecmwf.int/"
      ],
      "metadata": {
        "id": "HpYFmEc7Csf7"
      }
    },
    {
      "cell_type": "code",
      "source": [
        "# Load climate data\n",
        "climate_data = pd.read_csv('climate_data.csv')  # Replace with actual file path\n",
        "financial_data = pd.read_csv('financial_data.csv')  # Replace with actual file path\n",
        "\n",
        "# Preview data\n",
        "print(climate_data.head())\n",
        "print(financial_data.head())\n",
        "\n",
        "# Data preprocessing\n",
        "climate_data['Date'] = pd.to_datetime(climate_data['Date'])\n",
        "financial_data['Date'] = pd.to_datetime(financial_data['Date'])"
      ],
      "metadata": {
        "id": "kbiKrXxaCJqp"
      },
      "execution_count": null,
      "outputs": []
    },
    {
      "cell_type": "markdown",
      "source": [
        "###**Step 3: Model Climate Risk**"
      ],
      "metadata": {
        "id": "zJdCV9ojBC0A"
      }
    },
    {
      "cell_type": "code",
      "source": [
        "# Calculate rolling averages for temperature to detect trends\n",
        "climate_data['Rolling_Temp'] = climate_data['Temperature'].rolling(window=30).mean()\n",
        "\n",
        "# Visualize temperature trends\n",
        "plt.plot(climate_data['Date'], climate_data['Rolling_Temp'])\n",
        "plt.title('Temperature Trends')\n",
        "plt.xlabel('Date')\n",
        "plt.ylabel('Temperature')\n",
        "plt.show()\n",
        "\n",
        "# Calculate standard deviations for volatility assessment\n",
        "climate_volatility = climate_data['Temperature'].std()\n",
        "print(f\"Climate Volatility: {climate_volatility}\")\n"
      ],
      "metadata": {
        "id": "Fzgs1iDxC_69"
      },
      "execution_count": null,
      "outputs": []
    },
    {
      "cell_type": "markdown",
      "source": [
        "###**Step 4: Design and Price a Climate Derivative**"
      ],
      "metadata": {
        "id": "y5Em_pomBb2f"
      }
    },
    {
      "cell_type": "code",
      "source": [
        "# Define Black-Scholes formula\n",
        "def black_scholes(S, X, T, r, sigma):\n",
        "    d1 = (np.log(S / X) + (r + 0.5 * sigma ** 2) * T) / (sigma * np.sqrt(T))\n",
        "    d2 = d1 - sigma * np.sqrt(T)\n",
        "    call_price = S * norm.cdf(d1) - X * np.exp(-r * T) * norm.cdf(d2)\n",
        "    return call_price\n",
        "\n",
        "# Parameters for the derivative\n",
        "S = 30  # Current temperature index\n",
        "X = 25  # Strike temperature\n",
        "T = 1   # Time to maturity (in years)\n",
        "r = 0.03  # Risk-free interest rate\n",
        "sigma = climate_volatility  # Climate volatility as proxy for sigma\n",
        "\n",
        "# Calculate derivative price\n",
        "price = black_scholes(S, X, T, r, sigma)\n",
        "print(f\"Derivative Price: {price}\")\n"
      ],
      "metadata": {
        "id": "8U2WKFdEDETj"
      },
      "execution_count": null,
      "outputs": []
    },
    {
      "cell_type": "markdown",
      "source": [
        "###**Step 5: Back-Test Derivative Performance**"
      ],
      "metadata": {
        "id": "CFCTczuGB3X3"
      }
    },
    {
      "cell_type": "code",
      "source": [
        "# Simulate future temperatures\n",
        "np.random.seed(42)\n",
        "future_temps = np.random.normal(loc=climate_data['Temperature'].mean(), scale=climate_volatility, size=100)\n",
        "\n",
        "# Calculate payoff for each scenario\n",
        "payoffs = [max(temp - X, 0) for temp in future_temps]\n",
        "expected_payoff = np.mean(payoffs)\n",
        "print(f\"Expected Payoff: {expected_payoff}\")\n",
        "\n",
        "# Visualize scenario outcomes\n",
        "plt.hist(future_temps, bins=20, alpha=0.7, label='Simulated Temperatures')\n",
        "plt.axvline(x=X, color='r', linestyle='--', label='Strike Temperature')\n",
        "plt.title('Simulated Temperature Distribution')\n",
        "plt.xlabel('Temperature')\n",
        "plt.ylabel('Frequency')\n",
        "plt.legend()\n",
        "plt.show()\n"
      ],
      "metadata": {
        "id": "QnF5hehoDMHJ"
      },
      "execution_count": null,
      "outputs": []
    },
    {
      "cell_type": "markdown",
      "source": [
        "###**Step 6: Portfolio Optimization**"
      ],
      "metadata": {
        "id": "8mTs2QCFCBxm"
      }
    },
    {
      "cell_type": "code",
      "source": [
        "# Example: Adjust portfolio weights\n",
        "assets = ['Stock', 'Bond', 'Derivative']\n",
        "weights = np.array([0.6, 0.3, 0.1])  # Initial weights\n",
        "returns = np.array([0.08, 0.03, expected_payoff])  # Annualized returns\n",
        "risk = np.array([0.2, 0.1, sigma])  # Standard deviations\n",
        "\n",
        "# Portfolio return and risk\n",
        "portfolio_return = np.dot(weights, returns)\n",
        "portfolio_risk = np.sqrt(np.dot(weights ** 2, risk ** 2))\n",
        "print(f\"Portfolio Return: {portfolio_return}, Portfolio Risk: {portfolio_risk}\")\n",
        "\n",
        "# Adjust weights for optimal risk-return\n",
        "weights[2] += 0.05  # Increase derivative allocation\n",
        "print(f\"Adjusted Weights: {weights}\")"
      ],
      "metadata": {
        "id": "z3Ob1iS2DRVb"
      },
      "execution_count": null,
      "outputs": []
    }
  ]
}